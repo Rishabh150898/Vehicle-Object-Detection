{
  "nbformat": 4,
  "nbformat_minor": 0,
  "metadata": {
    "colab": {
      "name": "detection.ipynb",
      "provenance": [],
      "collapsed_sections": []
    },
    "kernelspec": {
      "name": "python3",
      "display_name": "Python 3"
    },
    "language_info": {
      "name": "python"
    },
    "accelerator": "GPU"
  },
  "cells": [
    {
      "cell_type": "markdown",
      "metadata": {
        "id": "IDTnYEo1w3pc"
      },
      "source": [
        "**Step 1 : Clone yolov5 repository**"
      ]
    },
    {
      "cell_type": "code",
      "metadata": {
        "colab": {
          "base_uri": "https://localhost:8080/"
        },
        "id": "XFyNy8Houqbu",
        "outputId": "5ed649ae-0a8b-429a-860d-5d650babe37f"
      },
      "source": [
        "!git clone https://github.com/ultralytics/yolov5  # clone repo\n"
      ],
      "execution_count": null,
      "outputs": [
        {
          "output_type": "stream",
          "text": [
            "Cloning into 'yolov5'...\n",
            "remote: Enumerating objects: 6872, done.\u001b[K\n",
            "remote: Counting objects: 100% (176/176), done.\u001b[K\n",
            "remote: Compressing objects: 100% (107/107), done.\u001b[K\n",
            "remote: Total 6872 (delta 103), reused 115 (delta 68), pack-reused 6696\u001b[K\n",
            "Receiving objects: 100% (6872/6872), 9.03 MiB | 34.12 MiB/s, done.\n",
            "Resolving deltas: 100% (4710/4710), done.\n"
          ],
          "name": "stdout"
        }
      ]
    },
    {
      "cell_type": "markdown",
      "metadata": {
        "id": "7r2zjctLxEee"
      },
      "source": [
        "**Step 2: Change Directory to yolov5**"
      ]
    },
    {
      "cell_type": "code",
      "metadata": {
        "colab": {
          "base_uri": "https://localhost:8080/"
        },
        "id": "-RgE26nxurF8",
        "outputId": "00d1f420-5056-4bfa-f0eb-4ece729a09dc"
      },
      "source": [
        "%cd yolov5\n"
      ],
      "execution_count": null,
      "outputs": [
        {
          "output_type": "stream",
          "text": [
            "/content/yolov5\n"
          ],
          "name": "stdout"
        }
      ]
    },
    {
      "cell_type": "markdown",
      "metadata": {
        "id": "naY2BsqYxLPV"
      },
      "source": [
        "**Step 3: Install Dependencies**"
      ]
    },
    {
      "cell_type": "code",
      "metadata": {
        "colab": {
          "base_uri": "https://localhost:8080/"
        },
        "id": "9jzSAtniu8IK",
        "outputId": "e6c1b576-303f-4b33-b0de-d2f4a9455cab"
      },
      "source": [
        "%pip install -qr requirements.txt  # install dependencies"
      ],
      "execution_count": null,
      "outputs": [
        {
          "output_type": "stream",
          "text": [
            "\u001b[?25l\r\u001b[K     |▌                               | 10kB 29.0MB/s eta 0:00:01\r\u001b[K     |█                               | 20kB 34.0MB/s eta 0:00:01\r\u001b[K     |█▌                              | 30kB 35.9MB/s eta 0:00:01\r\u001b[K     |██                              | 40kB 37.5MB/s eta 0:00:01\r\u001b[K     |██▋                             | 51kB 39.4MB/s eta 0:00:01\r\u001b[K     |███                             | 61kB 41.2MB/s eta 0:00:01\r\u001b[K     |███▋                            | 71kB 36.8MB/s eta 0:00:01\r\u001b[K     |████▏                           | 81kB 36.3MB/s eta 0:00:01\r\u001b[K     |████▋                           | 92kB 32.9MB/s eta 0:00:01\r\u001b[K     |█████▏                          | 102kB 32.9MB/s eta 0:00:01\r\u001b[K     |█████▋                          | 112kB 32.9MB/s eta 0:00:01\r\u001b[K     |██████▏                         | 122kB 32.9MB/s eta 0:00:01\r\u001b[K     |██████▊                         | 133kB 32.9MB/s eta 0:00:01\r\u001b[K     |███████▏                        | 143kB 32.9MB/s eta 0:00:01\r\u001b[K     |███████▊                        | 153kB 32.9MB/s eta 0:00:01\r\u001b[K     |████████▎                       | 163kB 32.9MB/s eta 0:00:01\r\u001b[K     |████████▊                       | 174kB 32.9MB/s eta 0:00:01\r\u001b[K     |█████████▎                      | 184kB 32.9MB/s eta 0:00:01\r\u001b[K     |█████████▉                      | 194kB 32.9MB/s eta 0:00:01\r\u001b[K     |██████████▎                     | 204kB 32.9MB/s eta 0:00:01\r\u001b[K     |██████████▉                     | 215kB 32.9MB/s eta 0:00:01\r\u001b[K     |███████████▎                    | 225kB 32.9MB/s eta 0:00:01\r\u001b[K     |███████████▉                    | 235kB 32.9MB/s eta 0:00:01\r\u001b[K     |████████████▍                   | 245kB 32.9MB/s eta 0:00:01\r\u001b[K     |████████████▉                   | 256kB 32.9MB/s eta 0:00:01\r\u001b[K     |█████████████▍                  | 266kB 32.9MB/s eta 0:00:01\r\u001b[K     |██████████████                  | 276kB 32.9MB/s eta 0:00:01\r\u001b[K     |██████████████▍                 | 286kB 32.9MB/s eta 0:00:01\r\u001b[K     |███████████████                 | 296kB 32.9MB/s eta 0:00:01\r\u001b[K     |███████████████▍                | 307kB 32.9MB/s eta 0:00:01\r\u001b[K     |████████████████                | 317kB 32.9MB/s eta 0:00:01\r\u001b[K     |████████████████▌               | 327kB 32.9MB/s eta 0:00:01\r\u001b[K     |█████████████████               | 337kB 32.9MB/s eta 0:00:01\r\u001b[K     |█████████████████▌              | 348kB 32.9MB/s eta 0:00:01\r\u001b[K     |██████████████████              | 358kB 32.9MB/s eta 0:00:01\r\u001b[K     |██████████████████▌             | 368kB 32.9MB/s eta 0:00:01\r\u001b[K     |███████████████████             | 378kB 32.9MB/s eta 0:00:01\r\u001b[K     |███████████████████▋            | 389kB 32.9MB/s eta 0:00:01\r\u001b[K     |████████████████████            | 399kB 32.9MB/s eta 0:00:01\r\u001b[K     |████████████████████▋           | 409kB 32.9MB/s eta 0:00:01\r\u001b[K     |█████████████████████           | 419kB 32.9MB/s eta 0:00:01\r\u001b[K     |█████████████████████▋          | 430kB 32.9MB/s eta 0:00:01\r\u001b[K     |██████████████████████▏         | 440kB 32.9MB/s eta 0:00:01\r\u001b[K     |██████████████████████▋         | 450kB 32.9MB/s eta 0:00:01\r\u001b[K     |███████████████████████▏        | 460kB 32.9MB/s eta 0:00:01\r\u001b[K     |███████████████████████▊        | 471kB 32.9MB/s eta 0:00:01\r\u001b[K     |████████████████████████▏       | 481kB 32.9MB/s eta 0:00:01\r\u001b[K     |████████████████████████▊       | 491kB 32.9MB/s eta 0:00:01\r\u001b[K     |█████████████████████████▏      | 501kB 32.9MB/s eta 0:00:01\r\u001b[K     |█████████████████████████▊      | 512kB 32.9MB/s eta 0:00:01\r\u001b[K     |██████████████████████████▎     | 522kB 32.9MB/s eta 0:00:01\r\u001b[K     |██████████████████████████▊     | 532kB 32.9MB/s eta 0:00:01\r\u001b[K     |███████████████████████████▎    | 542kB 32.9MB/s eta 0:00:01\r\u001b[K     |███████████████████████████▉    | 552kB 32.9MB/s eta 0:00:01\r\u001b[K     |████████████████████████████▎   | 563kB 32.9MB/s eta 0:00:01\r\u001b[K     |████████████████████████████▉   | 573kB 32.9MB/s eta 0:00:01\r\u001b[K     |█████████████████████████████▍  | 583kB 32.9MB/s eta 0:00:01\r\u001b[K     |█████████████████████████████▉  | 593kB 32.9MB/s eta 0:00:01\r\u001b[K     |██████████████████████████████▍ | 604kB 32.9MB/s eta 0:00:01\r\u001b[K     |██████████████████████████████▉ | 614kB 32.9MB/s eta 0:00:01\r\u001b[K     |███████████████████████████████▍| 624kB 32.9MB/s eta 0:00:01\r\u001b[K     |████████████████████████████████| 634kB 32.9MB/s eta 0:00:01\r\u001b[K     |████████████████████████████████| 645kB 32.9MB/s \n",
            "\u001b[?25h"
          ],
          "name": "stdout"
        }
      ]
    },
    {
      "cell_type": "code",
      "metadata": {
        "colab": {
          "base_uri": "https://localhost:8080/"
        },
        "id": "sw6lJTsMvYEY",
        "outputId": "fbb026af-17a6-48de-edc5-278091ae78ab"
      },
      "source": [
        "import torch\n",
        "from IPython.display import Image, clear_output  # to display images\n",
        "\n",
        "clear_output()\n",
        "print(f\"Setup complete. Using torch {torch.__version__} ({torch.cuda.get_device_properties(0).name if torch.cuda.is_available() else 'CPU'})\")"
      ],
      "execution_count": null,
      "outputs": [
        {
          "output_type": "stream",
          "text": [
            "Setup complete. Using torch 1.8.1+cu101 (Tesla T4)\n"
          ],
          "name": "stdout"
        }
      ]
    },
    {
      "cell_type": "markdown",
      "metadata": {
        "id": "0bMw3b_6xfUT"
      },
      "source": [
        "**Step 4: Mount the Drive**"
      ]
    },
    {
      "cell_type": "code",
      "metadata": {
        "id": "-PwFajBx4WMt",
        "colab": {
          "base_uri": "https://localhost:8080/"
        },
        "outputId": "f7ef5389-d690-4f1c-c6ae-604920126a67"
      },
      "source": [
        "from google.colab import drive\n",
        "drive.mount('/content/drive')"
      ],
      "execution_count": null,
      "outputs": [
        {
          "output_type": "stream",
          "text": [
            "Drive already mounted at /content/drive; to attempt to forcibly remount, call drive.mount(\"/content/drive\", force_remount=True).\n"
          ],
          "name": "stdout"
        }
      ]
    },
    {
      "cell_type": "markdown",
      "metadata": {
        "id": "bZTzHtUw14DN"
      },
      "source": [
        "**Step 5: Loading yaml file into this notebook with our data**"
      ]
    },
    {
      "cell_type": "code",
      "metadata": {
        "colab": {
          "base_uri": "https://localhost:8080/"
        },
        "id": "JOEVL_xm0iVL",
        "outputId": "56a3dc86-3fe6-41f4-8594-39ae47a4359a"
      },
      "source": [
        "%cat /content/yolov5/data/Object_det.yaml"
      ],
      "execution_count": null,
      "outputs": [
        {
          "output_type": "stream",
          "text": [
            "train: /content/drive/MyDrive/detection/train/  # 128 images\n",
            "val: /content/drive/MyDrive/detection/test/  # 128 images\n",
            "\n",
            "# number of classes\n",
            "nc: 8\n",
            "\n",
            "# class names\n",
            "names: [ 'auto','bus','car','lcv','motorcycle','multiaxle','tractor','truck']\n"
          ],
          "name": "stdout"
        }
      ]
    },
    {
      "cell_type": "markdown",
      "metadata": {
        "id": "5g3X3t3m9Pju"
      },
      "source": [
        "**Step 6: Model configuration**"
      ]
    },
    {
      "cell_type": "code",
      "metadata": {
        "id": "7cjGmWxk2YGr"
      },
      "source": [
        "# define number of classes based on YAML\n",
        "import yaml\n",
        "with open(\"/content/yolov5/data/Object_det.yaml\", 'r') as stream:\n",
        "    num_classes = str(yaml.safe_load(stream)['nc'])"
      ],
      "execution_count": null,
      "outputs": []
    },
    {
      "cell_type": "code",
      "metadata": {
        "colab": {
          "base_uri": "https://localhost:8080/"
        },
        "id": "19g5LZ8V2X_L",
        "outputId": "fc9c0727-8655-4a64-a49f-14485ccea82b"
      },
      "source": [
        "#this is the model configuration we will use for training our dataset\n",
        "%cat /content/yolov5/models/yolov5s.yaml"
      ],
      "execution_count": null,
      "outputs": [
        {
          "output_type": "stream",
          "text": [
            "# parameters\n",
            "nc: 80  # number of classes\n",
            "depth_multiple: 0.33  # model depth multiple\n",
            "width_multiple: 0.50  # layer channel multiple\n",
            "\n",
            "# anchors\n",
            "anchors:\n",
            "  - [10,13, 16,30, 33,23]  # P3/8\n",
            "  - [30,61, 62,45, 59,119]  # P4/16\n",
            "  - [116,90, 156,198, 373,326]  # P5/32\n",
            "\n",
            "# YOLOv5 backbone\n",
            "backbone:\n",
            "  # [from, number, module, args]\n",
            "  [[-1, 1, Focus, [64, 3]],  # 0-P1/2\n",
            "   [-1, 1, Conv, [128, 3, 2]],  # 1-P2/4\n",
            "   [-1, 3, C3, [128]],\n",
            "   [-1, 1, Conv, [256, 3, 2]],  # 3-P3/8\n",
            "   [-1, 9, C3, [256]],\n",
            "   [-1, 1, Conv, [512, 3, 2]],  # 5-P4/16\n",
            "   [-1, 9, C3, [512]],\n",
            "   [-1, 1, Conv, [1024, 3, 2]],  # 7-P5/32\n",
            "   [-1, 1, SPP, [1024, [5, 9, 13]]],\n",
            "   [-1, 3, C3, [1024, False]],  # 9\n",
            "  ]\n",
            "\n",
            "# YOLOv5 head\n",
            "head:\n",
            "  [[-1, 1, Conv, [512, 1, 1]],\n",
            "   [-1, 1, nn.Upsample, [None, 2, 'nearest']],\n",
            "   [[-1, 6], 1, Concat, [1]],  # cat backbone P4\n",
            "   [-1, 3, C3, [512, False]],  # 13\n",
            "\n",
            "   [-1, 1, Conv, [256, 1, 1]],\n",
            "   [-1, 1, nn.Upsample, [None, 2, 'nearest']],\n",
            "   [[-1, 4], 1, Concat, [1]],  # cat backbone P3\n",
            "   [-1, 3, C3, [256, False]],  # 17 (P3/8-small)\n",
            "\n",
            "   [-1, 1, Conv, [256, 3, 2]],\n",
            "   [[-1, 14], 1, Concat, [1]],  # cat head P4\n",
            "   [-1, 3, C3, [512, False]],  # 20 (P4/16-medium)\n",
            "\n",
            "   [-1, 1, Conv, [512, 3, 2]],\n",
            "   [[-1, 10], 1, Concat, [1]],  # cat head P5\n",
            "   [-1, 3, C3, [1024, False]],  # 23 (P5/32-large)\n",
            "\n",
            "   [[17, 20, 23], 1, Detect, [nc, anchors]],  # Detect(P3, P4, P5)\n",
            "  ]\n"
          ],
          "name": "stdout"
        }
      ]
    },
    {
      "cell_type": "code",
      "metadata": {
        "id": "HYeN334X3qey"
      },
      "source": [
        "#customize iPython writefile so we can write variables\n",
        "from IPython.core.magic import register_line_cell_magic\n",
        "\n",
        "@register_line_cell_magic\n",
        "def writetemplate(line, cell):\n",
        "    with open(line, 'w') as f:\n",
        "        f.write(cell.format(**globals()))"
      ],
      "execution_count": null,
      "outputs": []
    },
    {
      "cell_type": "code",
      "metadata": {
        "id": "TVhDkNF83qn8"
      },
      "source": [
        "%%writetemplate /content/yolov5/models/custom_yolov5s.yaml\n",
        "\n",
        "# parameters\n",
        "nc: 8  # number of classes\n",
        "depth_multiple: 0.33  # model depth multiple\n",
        "width_multiple: 0.50  # layer channel multiple\n",
        "\n",
        "# anchors\n",
        "anchors:\n",
        "  - [10,13, 16,30, 33,23]  # P3/8\n",
        "  - [30,61, 62,45, 59,119]  # P4/16\n",
        "  - [116,90, 156,198, 373,326]  # P5/32\n",
        "\n",
        "# YOLOv5 backbone\n",
        "backbone:\n",
        "  # [from, number, module, args]\n",
        "  [[-1, 1, Focus, [64, 3]],  # 0-P1/2\n",
        "   [-1, 1, Conv, [128, 3, 2]],  # 1-P2/4\n",
        "   [-1, 3, BottleneckCSP, [128]],\n",
        "   [-1, 1, Conv, [256, 3, 2]],  # 3-P3/8\n",
        "   [-1, 9, BottleneckCSP, [256]],\n",
        "   [-1, 1, Conv, [512, 3, 2]],  # 5-P4/16\n",
        "   [-1, 9, BottleneckCSP, [512]],\n",
        "   [-1, 1, Conv, [1024, 3, 2]],  # 7-P5/32\n",
        "   [-1, 1, SPP, [1024, [5, 9, 13]]],\n",
        "   [-1, 3, BottleneckCSP, [1024, False]],  # 9\n",
        "  ]\n",
        "\n",
        "# YOLOv5 head\n",
        "head:\n",
        "  [[-1, 1, Conv, [512, 1, 1]],\n",
        "   [-1, 1, nn.Upsample, [None, 2, 'nearest']],\n",
        "   [[-1, 6], 1, Concat, [1]],  # cat backbone P4\n",
        "   [-1, 3, BottleneckCSP, [512, False]],  # 13\n",
        "\n",
        "   [-1, 1, Conv, [256, 1, 1]],\n",
        "   [-1, 1, nn.Upsample, [None, 2, 'nearest']],\n",
        "   [[-1, 4], 1, Concat, [1]],  # cat backbone P3\n",
        "   [-1, 3, BottleneckCSP, [256, False]],  # 17 (P3/8-small)\n",
        "\n",
        "   [-1, 1, Conv, [256, 3, 2]],\n",
        "   [[-1, 14], 1, Concat, [1]],  # cat head P4\n",
        "   [-1, 3, BottleneckCSP, [512, False]],  # 20 (P4/16-medium)\n",
        "\n",
        "   [-1, 1, Conv, [512, 3, 2]],\n",
        "   [[-1, 10], 1, Concat, [1]],  # cat head P5\n",
        "   [-1, 3, BottleneckCSP, [1024, False]],  # 23 (P5/32-large)\n",
        "\n",
        "   [[17, 20, 23], 1, Detect, [nc, anchors]],  # Detect(P3, P4, P5)\n",
        "  ]"
      ],
      "execution_count": null,
      "outputs": []
    },
    {
      "cell_type": "markdown",
      "metadata": {
        "id": "p7MLBy2y6TVU"
      },
      "source": [
        "**Step 7: Train the Dataset with YOLOv5 Detector**"
      ]
    },
    {
      "cell_type": "markdown",
      "metadata": {
        "id": "Te1idHsh5SxG"
      },
      "source": [
        "\n",
        "Next, we'll fire off training!\n",
        "Here, we are able to pass a number of arguments:\n",
        "\n",
        "**img**: define input image size,\n",
        "**batch**: determine batch size,\n",
        "**epochs**: define the number of training epochs,\n",
        "**data**: set the path to our yaml file,\n",
        "**cfg**: specify our model configuration,\n",
        "**weights**: specify a custom path to weights. (Note: you can download weights from the Ultralytics Google Drive folder),\n",
        "**name**: result names,\n",
        "**nosave**: only save the final checkpoint,\n",
        "**cache**: cache images for faster training."
      ]
    },
    {
      "cell_type": "code",
      "metadata": {
        "id": "ClWfPDQs4WPO",
        "colab": {
          "base_uri": "https://localhost:8080/"
        },
        "outputId": "f3f242c9-7a8e-40e0-fd1c-78d9a720fb07"
      },
      "source": [
        "# Train YOLOv5s on COCO128 for 100 epochs\n",
        "!python train.py --img 640 --batch 16 --epochs 100 --data /content/yolov5/data/Object_det.yaml --weights yolov5s.pt --nosave --cache"
      ],
      "execution_count": null,
      "outputs": [
        {
          "output_type": "stream",
          "text": [
            "\u001b[34m\u001b[1mgithub: \u001b[0mup to date with https://github.com/ultralytics/yolov5 ✅\n",
            "YOLOv5 🚀 v5.0-130-gfdbe527 torch 1.8.1+cu101 CUDA:0 (Tesla T4, 15109.75MB)\n",
            "\n",
            "Namespace(adam=False, artifact_alias='latest', batch_size=16, bbox_interval=-1, bucket='', cache_images=True, cfg='', data='/content/yolov5/data/Object_det.yaml', device='', entity=None, epochs=100, evolve=False, exist_ok=False, global_rank=-1, hyp='data/hyp.scratch.yaml', image_weights=False, img_size=[640, 640], label_smoothing=0.0, linear_lr=False, local_rank=-1, multi_scale=False, name='exp', noautoanchor=False, nosave=True, notest=False, project='runs/train', quad=False, rect=False, resume=False, save_dir='runs/train/exp3', save_period=-1, single_cls=False, sync_bn=False, total_batch_size=16, upload_dataset=False, weights='yolov5s.pt', workers=8, world_size=1)\n",
            "\u001b[34m\u001b[1mtensorboard: \u001b[0mStart with 'tensorboard --logdir runs/train', view at http://localhost:6006/\n",
            "2021-06-01 05:37:11.318424: I tensorflow/stream_executor/platform/default/dso_loader.cc:53] Successfully opened dynamic library libcudart.so.11.0\n",
            "\u001b[34m\u001b[1mhyperparameters: \u001b[0mlr0=0.01, lrf=0.2, momentum=0.937, weight_decay=0.0005, warmup_epochs=3.0, warmup_momentum=0.8, warmup_bias_lr=0.1, box=0.05, cls=0.5, cls_pw=1.0, obj=1.0, obj_pw=1.0, iou_t=0.2, anchor_t=4.0, fl_gamma=0.0, hsv_h=0.015, hsv_s=0.7, hsv_v=0.4, degrees=0.0, translate=0.1, scale=0.5, shear=0.0, perspective=0.0, flipud=0.0, fliplr=0.5, mosaic=1.0, mixup=0.0\n",
            "\u001b[34m\u001b[1mwandb: \u001b[0mInstall Weights & Biases for YOLOv5 logging with 'pip install wandb' (recommended)\n",
            "Overriding model.yaml nc=80 with nc=8\n",
            "\n",
            "                 from  n    params  module                                  arguments                     \n",
            "  0                -1  1      3520  models.common.Focus                     [3, 32, 3]                    \n",
            "  1                -1  1     18560  models.common.Conv                      [32, 64, 3, 2]                \n",
            "  2                -1  1     18816  models.common.C3                        [64, 64, 1]                   \n",
            "  3                -1  1     73984  models.common.Conv                      [64, 128, 3, 2]               \n",
            "  4                -1  1    156928  models.common.C3                        [128, 128, 3]                 \n",
            "  5                -1  1    295424  models.common.Conv                      [128, 256, 3, 2]              \n",
            "  6                -1  1    625152  models.common.C3                        [256, 256, 3]                 \n",
            "  7                -1  1   1180672  models.common.Conv                      [256, 512, 3, 2]              \n",
            "  8                -1  1    656896  models.common.SPP                       [512, 512, [5, 9, 13]]        \n",
            "  9                -1  1   1182720  models.common.C3                        [512, 512, 1, False]          \n",
            " 10                -1  1    131584  models.common.Conv                      [512, 256, 1, 1]              \n",
            " 11                -1  1         0  torch.nn.modules.upsampling.Upsample    [None, 2, 'nearest']          \n",
            " 12           [-1, 6]  1         0  models.common.Concat                    [1]                           \n",
            " 13                -1  1    361984  models.common.C3                        [512, 256, 1, False]          \n",
            " 14                -1  1     33024  models.common.Conv                      [256, 128, 1, 1]              \n",
            " 15                -1  1         0  torch.nn.modules.upsampling.Upsample    [None, 2, 'nearest']          \n",
            " 16           [-1, 4]  1         0  models.common.Concat                    [1]                           \n",
            " 17                -1  1     90880  models.common.C3                        [256, 128, 1, False]          \n",
            " 18                -1  1    147712  models.common.Conv                      [128, 128, 3, 2]              \n",
            " 19          [-1, 14]  1         0  models.common.Concat                    [1]                           \n",
            " 20                -1  1    296448  models.common.C3                        [256, 256, 1, False]          \n",
            " 21                -1  1    590336  models.common.Conv                      [256, 256, 3, 2]              \n",
            " 22          [-1, 10]  1         0  models.common.Concat                    [1]                           \n",
            " 23                -1  1   1182720  models.common.C3                        [512, 512, 1, False]          \n",
            " 24      [17, 20, 23]  1     35061  models.yolo.Detect                      [8, [[10, 13, 16, 30, 33, 23], [30, 61, 62, 45, 59, 119], [116, 90, 156, 198, 373, 326]], [128, 256, 512]]\n",
            "Model Summary: 283 layers, 7082421 parameters, 7082421 gradients, 16.4 GFLOPS\n",
            "\n",
            "Transferred 356/362 items from yolov5s.pt\n",
            "Scaled weight_decay = 0.0005\n",
            "Optimizer groups: 62 .bias, 62 conv.weight, 59 other\n",
            "\u001b[34m\u001b[1mtrain: \u001b[0mScanning '/content/drive/MyDrive/detection/train.cache' images and labels... 5004 found, 2 missing, 0 empty, 1 corrupted: 100% 5006/5006 [00:00<00:00, 53976056.10it/s]\n",
            "\u001b[34m\u001b[1mtrain: \u001b[0mCaching images (6.2GB): 100% 5005/5005 [00:23<00:00, 215.74it/s]\n",
            "\u001b[34m\u001b[1mval: \u001b[0mScanning '/content/drive/MyDrive/detection/test.cache' images and labels... 500 found, 0 missing, 0 empty, 1 corrupted: 100% 500/500 [00:00<00:00, 3281928.01it/s]\n",
            "\u001b[34m\u001b[1mval: \u001b[0mCaching images (0.6GB): 100% 499/499 [00:03<00:00, 152.05it/s]\n",
            "Plotting labels... \n",
            "\n",
            "\u001b[34m\u001b[1mautoanchor: \u001b[0mAnalyzing anchors... anchors/target = 5.73, Best Possible Recall (BPR) = 1.0000\n",
            "Image sizes 640 train, 640 test\n",
            "Using 2 dataloader workers\n",
            "Logging results to runs/train/exp3\n",
            "Starting training for 100 epochs...\n",
            "\n",
            "     Epoch   gpu_mem       box       obj       cls     total    labels  img_size\n",
            "      0/99     2.88G    0.1212   0.04515   0.06303    0.2294        79       640:   0% 0/313 [00:03<?, ?it/s]/usr/local/lib/python3.7/dist-packages/torch/jit/_trace.py:728: UserWarning: The input to trace is already a ScriptModule, tracing it is a no-op. Returning the object as is.\n",
            "  \"The input to trace is already a ScriptModule, tracing it is a no-op. Returning the object as is.\"\n",
            "      0/99     2.19G    0.0739   0.03516   0.04223    0.1513        69       640: 100% 313/313 [01:29<00:00,  3.48it/s]\n",
            "               Class      Images      Labels           P           R      mAP@.5  mAP@.5:.95: 100% 16/16 [00:07<00:00,  2.21it/s]\n",
            "                 all         499        1680       0.654       0.283       0.228       0.101\n",
            "\n",
            "     Epoch   gpu_mem       box       obj       cls     total    labels  img_size\n",
            "      1/99     3.18G   0.05216    0.0249   0.02594     0.103        54       640: 100% 313/313 [01:15<00:00,  4.15it/s]\n",
            "               Class      Images      Labels           P           R      mAP@.5  mAP@.5:.95: 100% 16/16 [00:04<00:00,  3.80it/s]\n",
            "                 all         499        1680       0.451       0.511       0.292       0.132\n",
            "\n",
            "     Epoch   gpu_mem       box       obj       cls     total    labels  img_size\n",
            "      2/99     3.18G    0.0471   0.02359   0.02238   0.09307        71       640: 100% 313/313 [01:14<00:00,  4.18it/s]\n",
            "               Class      Images      Labels           P           R      mAP@.5  mAP@.5:.95: 100% 16/16 [00:04<00:00,  3.87it/s]\n",
            "                 all         499        1680       0.238       0.828       0.399       0.232\n",
            "\n",
            "     Epoch   gpu_mem       box       obj       cls     total    labels  img_size\n",
            "      3/99     3.18G   0.04116   0.02255   0.02037   0.08408        46       640: 100% 313/313 [01:15<00:00,  4.16it/s]\n",
            "               Class      Images      Labels           P           R      mAP@.5  mAP@.5:.95: 100% 16/16 [00:04<00:00,  3.89it/s]\n",
            "                 all         499        1680       0.435       0.556       0.438       0.262\n",
            "\n",
            "     Epoch   gpu_mem       box       obj       cls     total    labels  img_size\n",
            "      4/99     3.18G   0.03721   0.02167   0.01841   0.07729        56       640: 100% 313/313 [01:13<00:00,  4.24it/s]\n",
            "               Class      Images      Labels           P           R      mAP@.5  mAP@.5:.95: 100% 16/16 [00:04<00:00,  3.87it/s]\n",
            "                 all         499        1680       0.578       0.549        0.54       0.349\n",
            "\n",
            "     Epoch   gpu_mem       box       obj       cls     total    labels  img_size\n",
            "      5/99     3.18G   0.03588   0.02171   0.01697   0.07457        66       640: 100% 313/313 [01:13<00:00,  4.23it/s]\n",
            "               Class      Images      Labels           P           R      mAP@.5  mAP@.5:.95: 100% 16/16 [00:04<00:00,  3.85it/s]\n",
            "                 all         499        1680       0.434       0.685       0.556       0.364\n",
            "\n",
            "     Epoch   gpu_mem       box       obj       cls     total    labels  img_size\n",
            "      6/99     3.18G   0.03486   0.02145   0.01564   0.07195        34       640: 100% 313/313 [01:13<00:00,  4.25it/s]\n",
            "               Class      Images      Labels           P           R      mAP@.5  mAP@.5:.95: 100% 16/16 [00:04<00:00,  3.93it/s]\n",
            "                 all         499        1680       0.406       0.797       0.567       0.386\n",
            "\n",
            "     Epoch   gpu_mem       box       obj       cls     total    labels  img_size\n",
            "      7/99     3.18G   0.03412   0.02114   0.01435   0.06961        47       640: 100% 313/313 [01:13<00:00,  4.24it/s]\n",
            "               Class      Images      Labels           P           R      mAP@.5  mAP@.5:.95: 100% 16/16 [00:04<00:00,  3.97it/s]\n",
            "                 all         499        1680       0.533       0.627       0.601       0.375\n",
            "\n",
            "     Epoch   gpu_mem       box       obj       cls     total    labels  img_size\n",
            "      8/99     3.18G   0.03312   0.02036   0.01354   0.06701        67       640: 100% 313/313 [01:14<00:00,  4.22it/s]\n",
            "               Class      Images      Labels           P           R      mAP@.5  mAP@.5:.95: 100% 16/16 [00:04<00:00,  3.89it/s]\n",
            "                 all         499        1680       0.613       0.542       0.586       0.372\n",
            "\n",
            "     Epoch   gpu_mem       box       obj       cls     total    labels  img_size\n",
            "      9/99     3.18G   0.03302   0.02053   0.01304    0.0666        62       640: 100% 313/313 [01:13<00:00,  4.24it/s]\n",
            "               Class      Images      Labels           P           R      mAP@.5  mAP@.5:.95: 100% 16/16 [00:03<00:00,  4.01it/s]\n",
            "                 all         499        1680       0.527       0.628       0.591       0.375\n",
            "\n",
            "     Epoch   gpu_mem       box       obj       cls     total    labels  img_size\n",
            "     10/99     3.18G   0.03243   0.02043   0.01243   0.06529        57       640: 100% 313/313 [01:13<00:00,  4.23it/s]\n",
            "               Class      Images      Labels           P           R      mAP@.5  mAP@.5:.95: 100% 16/16 [00:04<00:00,  3.89it/s]\n",
            "                 all         499        1680       0.531       0.582        0.56       0.366\n",
            "\n",
            "     Epoch   gpu_mem       box       obj       cls     total    labels  img_size\n",
            "     11/99     3.18G   0.03242   0.02021   0.01202   0.06465        59       640: 100% 313/313 [01:13<00:00,  4.24it/s]\n",
            "               Class      Images      Labels           P           R      mAP@.5  mAP@.5:.95: 100% 16/16 [00:03<00:00,  4.02it/s]\n",
            "                 all         499        1680       0.556       0.603       0.606       0.403\n",
            "\n",
            "     Epoch   gpu_mem       box       obj       cls     total    labels  img_size\n",
            "     12/99     3.18G   0.03233   0.02025   0.01169   0.06428        59       640: 100% 313/313 [01:13<00:00,  4.24it/s]\n",
            "               Class      Images      Labels           P           R      mAP@.5  mAP@.5:.95: 100% 16/16 [00:04<00:00,  3.92it/s]\n",
            "                 all         499        1680       0.562       0.566       0.583       0.394\n",
            "\n",
            "     Epoch   gpu_mem       box       obj       cls     total    labels  img_size\n",
            "     13/99     3.18G   0.03133   0.02025   0.01135   0.06293        48       640: 100% 313/313 [01:13<00:00,  4.24it/s]\n",
            "               Class      Images      Labels           P           R      mAP@.5  mAP@.5:.95: 100% 16/16 [00:04<00:00,  3.97it/s]\n",
            "                 all         499        1680       0.693       0.579       0.616       0.428\n",
            "\n",
            "     Epoch   gpu_mem       box       obj       cls     total    labels  img_size\n",
            "     14/99     3.18G   0.03135   0.01999   0.01093   0.06227        54       640: 100% 313/313 [01:13<00:00,  4.25it/s]\n",
            "               Class      Images      Labels           P           R      mAP@.5  mAP@.5:.95: 100% 16/16 [00:04<00:00,  3.95it/s]\n",
            "                 all         499        1680       0.515       0.622       0.579       0.378\n",
            "\n",
            "     Epoch   gpu_mem       box       obj       cls     total    labels  img_size\n",
            "     15/99     3.18G   0.03129   0.01985    0.0103   0.06144        51       640: 100% 313/313 [01:13<00:00,  4.24it/s]\n",
            "               Class      Images      Labels           P           R      mAP@.5  mAP@.5:.95: 100% 16/16 [00:04<00:00,  3.99it/s]\n",
            "                 all         499        1680       0.551       0.579       0.586         0.4\n",
            "\n",
            "     Epoch   gpu_mem       box       obj       cls     total    labels  img_size\n",
            "     16/99     3.18G   0.03087   0.01995   0.01019   0.06101        68       640: 100% 313/313 [01:13<00:00,  4.25it/s]\n",
            "               Class      Images      Labels           P           R      mAP@.5  mAP@.5:.95: 100% 16/16 [00:04<00:00,  3.99it/s]\n",
            "                 all         499        1680       0.601       0.661       0.637        0.43\n",
            "\n",
            "     Epoch   gpu_mem       box       obj       cls     total    labels  img_size\n",
            "     17/99     3.18G    0.0311   0.01973   0.01009   0.06092        42       640: 100% 313/313 [01:14<00:00,  4.21it/s]\n",
            "               Class      Images      Labels           P           R      mAP@.5  mAP@.5:.95: 100% 16/16 [00:04<00:00,  4.00it/s]\n",
            "                 all         499        1680       0.564       0.587       0.625       0.422\n",
            "\n",
            "     Epoch   gpu_mem       box       obj       cls     total    labels  img_size\n",
            "     18/99     3.18G   0.03082    0.0195  0.009519   0.05984        43       640: 100% 313/313 [01:13<00:00,  4.24it/s]\n",
            "               Class      Images      Labels           P           R      mAP@.5  mAP@.5:.95: 100% 16/16 [00:04<00:00,  3.98it/s]\n",
            "                 all         499        1680       0.693       0.601       0.674       0.453\n",
            "\n",
            "     Epoch   gpu_mem       box       obj       cls     total    labels  img_size\n",
            "     19/99     3.18G   0.03029   0.01951  0.009374   0.05917        44       640: 100% 313/313 [01:14<00:00,  4.21it/s]\n",
            "               Class      Images      Labels           P           R      mAP@.5  mAP@.5:.95: 100% 16/16 [00:04<00:00,  3.97it/s]\n",
            "                 all         499        1680        0.62       0.652        0.63        0.43\n",
            "\n",
            "     Epoch   gpu_mem       box       obj       cls     total    labels  img_size\n",
            "     20/99     3.18G    0.0303    0.0191  0.009242   0.05864        59       640: 100% 313/313 [01:14<00:00,  4.21it/s]\n",
            "               Class      Images      Labels           P           R      mAP@.5  mAP@.5:.95: 100% 16/16 [00:04<00:00,  3.94it/s]\n",
            "                 all         499        1680       0.539       0.634       0.606       0.427\n",
            "\n",
            "     Epoch   gpu_mem       box       obj       cls     total    labels  img_size\n",
            "     21/99     3.18G   0.02994   0.01941  0.008822   0.05817        50       640: 100% 313/313 [01:14<00:00,  4.23it/s]\n",
            "               Class      Images      Labels           P           R      mAP@.5  mAP@.5:.95: 100% 16/16 [00:04<00:00,  3.97it/s]\n",
            "                 all         499        1680       0.483       0.722       0.614       0.427\n",
            "\n",
            "     Epoch   gpu_mem       box       obj       cls     total    labels  img_size\n",
            "     22/99     3.18G   0.02988   0.01946  0.008669     0.058        87       640: 100% 313/313 [01:14<00:00,  4.22it/s]\n",
            "               Class      Images      Labels           P           R      mAP@.5  mAP@.5:.95: 100% 16/16 [00:04<00:00,  3.99it/s]\n",
            "                 all         499        1680       0.685       0.571       0.643       0.447\n",
            "\n",
            "     Epoch   gpu_mem       box       obj       cls     total    labels  img_size\n",
            "     23/99     3.18G   0.02987   0.01921  0.008625   0.05771        36       640: 100% 313/313 [01:14<00:00,  4.20it/s]\n",
            "               Class      Images      Labels           P           R      mAP@.5  mAP@.5:.95: 100% 16/16 [00:04<00:00,  3.99it/s]\n",
            "                 all         499        1680       0.598        0.63       0.648       0.449\n",
            "\n",
            "     Epoch   gpu_mem       box       obj       cls     total    labels  img_size\n",
            "     24/99     3.18G   0.02968   0.01925  0.007785   0.05672        63       640: 100% 313/313 [01:14<00:00,  4.22it/s]\n",
            "               Class      Images      Labels           P           R      mAP@.5  mAP@.5:.95: 100% 16/16 [00:03<00:00,  4.02it/s]\n",
            "                 all         499        1680       0.605       0.617       0.628       0.433\n",
            "\n",
            "     Epoch   gpu_mem       box       obj       cls     total    labels  img_size\n",
            "     25/99     3.18G   0.02928   0.01925  0.008088   0.05661        67       640: 100% 313/313 [01:14<00:00,  4.22it/s]\n",
            "               Class      Images      Labels           P           R      mAP@.5  mAP@.5:.95: 100% 16/16 [00:04<00:00,  3.95it/s]\n",
            "                 all         499        1680       0.552       0.596       0.573       0.404\n",
            "\n",
            "     Epoch   gpu_mem       box       obj       cls     total    labels  img_size\n",
            "     26/99     3.18G   0.02936   0.01897  0.007597   0.05593        61       640: 100% 313/313 [01:14<00:00,  4.22it/s]\n",
            "               Class      Images      Labels           P           R      mAP@.5  mAP@.5:.95: 100% 16/16 [00:04<00:00,  3.93it/s]\n",
            "                 all         499        1680       0.609       0.565        0.59       0.411\n",
            "\n",
            "     Epoch   gpu_mem       box       obj       cls     total    labels  img_size\n",
            "     27/99     3.18G    0.0292   0.01889  0.007966   0.05606        47       640: 100% 313/313 [01:14<00:00,  4.21it/s]\n",
            "               Class      Images      Labels           P           R      mAP@.5  mAP@.5:.95: 100% 16/16 [00:03<00:00,  4.02it/s]\n",
            "                 all         499        1680       0.635       0.616       0.639       0.433\n",
            "\n",
            "     Epoch   gpu_mem       box       obj       cls     total    labels  img_size\n",
            "     28/99     3.18G   0.02889   0.01867  0.007482   0.05504        55       640: 100% 313/313 [01:14<00:00,  4.22it/s]\n",
            "               Class      Images      Labels           P           R      mAP@.5  mAP@.5:.95: 100% 16/16 [00:03<00:00,  4.02it/s]\n",
            "                 all         499        1680       0.614       0.624       0.622       0.447\n",
            "\n",
            "     Epoch   gpu_mem       box       obj       cls     total    labels  img_size\n",
            "     29/99     3.18G   0.02864   0.01875  0.007393   0.05478        39       640: 100% 313/313 [01:13<00:00,  4.23it/s]\n",
            "               Class      Images      Labels           P           R      mAP@.5  mAP@.5:.95: 100% 16/16 [00:03<00:00,  4.02it/s]\n",
            "                 all         499        1680       0.665       0.631       0.642       0.451\n",
            "\n",
            "     Epoch   gpu_mem       box       obj       cls     total    labels  img_size\n",
            "     30/99     3.18G   0.02899   0.01845  0.007232   0.05467        35       640: 100% 313/313 [01:14<00:00,  4.22it/s]\n",
            "               Class      Images      Labels           P           R      mAP@.5  mAP@.5:.95: 100% 16/16 [00:03<00:00,  4.02it/s]\n",
            "                 all         499        1680       0.673       0.628       0.634       0.447\n",
            "\n",
            "     Epoch   gpu_mem       box       obj       cls     total    labels  img_size\n",
            "     31/99     3.18G   0.02862   0.01877  0.007122   0.05451        62       640: 100% 313/313 [01:14<00:00,  4.22it/s]\n",
            "               Class      Images      Labels           P           R      mAP@.5  mAP@.5:.95: 100% 16/16 [00:03<00:00,  4.02it/s]\n",
            "                 all         499        1680       0.589       0.552       0.584       0.411\n",
            "\n",
            "     Epoch   gpu_mem       box       obj       cls     total    labels  img_size\n",
            "     32/99     3.18G   0.02857   0.01842  0.006876   0.05387        70       640: 100% 313/313 [01:13<00:00,  4.23it/s]\n",
            "               Class      Images      Labels           P           R      mAP@.5  mAP@.5:.95: 100% 16/16 [00:04<00:00,  3.99it/s]\n",
            "                 all         499        1680       0.504       0.742        0.61       0.426\n",
            "\n",
            "     Epoch   gpu_mem       box       obj       cls     total    labels  img_size\n",
            "     33/99     3.18G   0.02819   0.01839  0.006396   0.05298        67       640: 100% 313/313 [01:14<00:00,  4.22it/s]\n",
            "               Class      Images      Labels           P           R      mAP@.5  mAP@.5:.95: 100% 16/16 [00:04<00:00,  3.99it/s]\n",
            "                 all         499        1680        0.57       0.527       0.567       0.399\n",
            "\n",
            "     Epoch   gpu_mem       box       obj       cls     total    labels  img_size\n",
            "     34/99     3.18G    0.0282   0.01841  0.006438   0.05305        44       640: 100% 313/313 [01:14<00:00,  4.21it/s]\n",
            "               Class      Images      Labels           P           R      mAP@.5  mAP@.5:.95: 100% 16/16 [00:03<00:00,  4.02it/s]\n",
            "                 all         499        1680       0.617       0.567       0.599       0.407\n",
            "\n",
            "     Epoch   gpu_mem       box       obj       cls     total    labels  img_size\n",
            "     35/99     3.18G   0.02829   0.01847  0.006207   0.05297        63       640: 100% 313/313 [01:14<00:00,  4.23it/s]\n",
            "               Class      Images      Labels           P           R      mAP@.5  mAP@.5:.95: 100% 16/16 [00:04<00:00,  3.92it/s]\n",
            "                 all         499        1680       0.539       0.644       0.581       0.413\n",
            "\n",
            "     Epoch   gpu_mem       box       obj       cls     total    labels  img_size\n",
            "     36/99     3.18G   0.02772   0.01795  0.005934    0.0516        60       640: 100% 313/313 [01:14<00:00,  4.21it/s]\n",
            "               Class      Images      Labels           P           R      mAP@.5  mAP@.5:.95: 100% 16/16 [00:04<00:00,  3.96it/s]\n",
            "                 all         499        1680       0.635       0.642       0.621        0.44\n",
            "\n",
            "     Epoch   gpu_mem       box       obj       cls     total    labels  img_size\n",
            "     37/99     3.18G   0.02759   0.01815  0.005952   0.05169        56       640: 100% 313/313 [01:14<00:00,  4.21it/s]\n",
            "               Class      Images      Labels           P           R      mAP@.5  mAP@.5:.95: 100% 16/16 [00:04<00:00,  3.98it/s]\n",
            "                 all         499        1680       0.484       0.658       0.573       0.394\n",
            "\n",
            "     Epoch   gpu_mem       box       obj       cls     total    labels  img_size\n",
            "     38/99     3.18G   0.02733   0.01832  0.006211   0.05186        50       640: 100% 313/313 [01:14<00:00,  4.21it/s]\n",
            "               Class      Images      Labels           P           R      mAP@.5  mAP@.5:.95: 100% 16/16 [00:03<00:00,  4.01it/s]\n",
            "                 all         499        1680       0.696       0.553       0.648       0.465\n",
            "\n",
            "     Epoch   gpu_mem       box       obj       cls     total    labels  img_size\n",
            "     39/99     3.18G   0.02731   0.01778  0.005382   0.05047        55       640: 100% 313/313 [01:13<00:00,  4.24it/s]\n",
            "               Class      Images      Labels           P           R      mAP@.5  mAP@.5:.95: 100% 16/16 [00:03<00:00,  4.04it/s]\n",
            "                 all         499        1680       0.592       0.542       0.619       0.433\n",
            "\n",
            "     Epoch   gpu_mem       box       obj       cls     total    labels  img_size\n",
            "     40/99     3.18G   0.02709   0.01794  0.005537   0.05057        55       640: 100% 313/313 [01:14<00:00,  4.21it/s]\n",
            "               Class      Images      Labels           P           R      mAP@.5  mAP@.5:.95: 100% 16/16 [00:03<00:00,  4.05it/s]\n",
            "                 all         499        1680       0.584         0.6       0.609       0.431\n",
            "\n",
            "     Epoch   gpu_mem       box       obj       cls     total    labels  img_size\n",
            "     41/99     3.18G   0.02716   0.01802  0.005509   0.05069        54       640: 100% 313/313 [01:14<00:00,  4.20it/s]\n",
            "               Class      Images      Labels           P           R      mAP@.5  mAP@.5:.95: 100% 16/16 [00:04<00:00,  3.98it/s]\n",
            "                 all         499        1680       0.561       0.648        0.59       0.416\n",
            "\n",
            "     Epoch   gpu_mem       box       obj       cls     total    labels  img_size\n",
            "     42/99     3.18G   0.02691   0.01746  0.005094   0.04947        35       640: 100% 313/313 [01:14<00:00,  4.20it/s]\n",
            "               Class      Images      Labels           P           R      mAP@.5  mAP@.5:.95: 100% 16/16 [00:04<00:00,  3.98it/s]\n",
            "                 all         499        1680        0.57       0.595        0.59       0.415\n",
            "\n",
            "     Epoch   gpu_mem       box       obj       cls     total    labels  img_size\n",
            "     43/99     3.18G   0.02673   0.01769  0.005114   0.04953        58       640: 100% 313/313 [01:14<00:00,  4.21it/s]\n",
            "               Class      Images      Labels           P           R      mAP@.5  mAP@.5:.95: 100% 16/16 [00:03<00:00,  4.03it/s]\n",
            "                 all         499        1680       0.532        0.68       0.609       0.437\n",
            "\n",
            "     Epoch   gpu_mem       box       obj       cls     total    labels  img_size\n",
            "     44/99     3.18G   0.02658   0.01745  0.004962   0.04899        30       640: 100% 313/313 [01:14<00:00,  4.21it/s]\n",
            "               Class      Images      Labels           P           R      mAP@.5  mAP@.5:.95: 100% 16/16 [00:03<00:00,  4.02it/s]\n",
            "                 all         499        1680       0.505       0.625       0.555       0.386\n",
            "\n",
            "     Epoch   gpu_mem       box       obj       cls     total    labels  img_size\n",
            "     45/99     3.18G   0.02659   0.01753  0.004998   0.04912        45       640: 100% 313/313 [01:13<00:00,  4.24it/s]\n",
            "               Class      Images      Labels           P           R      mAP@.5  mAP@.5:.95: 100% 16/16 [00:03<00:00,  4.03it/s]\n",
            "                 all         499        1680       0.619       0.602       0.632        0.44\n",
            "\n",
            "     Epoch   gpu_mem       box       obj       cls     total    labels  img_size\n",
            "     46/99     3.18G   0.02629   0.01734  0.004912   0.04854        69       640: 100% 313/313 [01:14<00:00,  4.21it/s]\n",
            "               Class      Images      Labels           P           R      mAP@.5  mAP@.5:.95: 100% 16/16 [00:03<00:00,  4.01it/s]\n",
            "                 all         499        1680       0.618       0.512        0.58       0.409\n",
            "\n",
            "     Epoch   gpu_mem       box       obj       cls     total    labels  img_size\n",
            "     47/99     3.18G   0.02609    0.0173    0.0047    0.0481        51       640: 100% 313/313 [01:14<00:00,  4.21it/s]\n",
            "               Class      Images      Labels           P           R      mAP@.5  mAP@.5:.95: 100% 16/16 [00:03<00:00,  4.04it/s]\n",
            "                 all         499        1680       0.562       0.686       0.615       0.437\n",
            "\n",
            "     Epoch   gpu_mem       box       obj       cls     total    labels  img_size\n",
            "     48/99     3.18G   0.02575   0.01709  0.004421   0.04726        48       640: 100% 313/313 [01:14<00:00,  4.21it/s]\n",
            "               Class      Images      Labels           P           R      mAP@.5  mAP@.5:.95: 100% 16/16 [00:03<00:00,  4.06it/s]\n",
            "                 all         499        1680       0.571        0.61       0.583       0.412\n",
            "\n",
            "     Epoch   gpu_mem       box       obj       cls     total    labels  img_size\n",
            "     49/99     3.18G   0.02561   0.01701  0.004537   0.04715        43       640: 100% 313/313 [01:14<00:00,  4.22it/s]\n",
            "               Class      Images      Labels           P           R      mAP@.5  mAP@.5:.95: 100% 16/16 [00:04<00:00,  4.00it/s]\n",
            "                 all         499        1680       0.597       0.642       0.635       0.439\n",
            "\n",
            "     Epoch   gpu_mem       box       obj       cls     total    labels  img_size\n",
            "     50/99     3.18G   0.02554   0.01677  0.004272   0.04659        46       640: 100% 313/313 [01:14<00:00,  4.19it/s]\n",
            "               Class      Images      Labels           P           R      mAP@.5  mAP@.5:.95: 100% 16/16 [00:03<00:00,  4.03it/s]\n",
            "                 all         499        1680       0.604       0.619       0.616       0.444\n",
            "\n",
            "     Epoch   gpu_mem       box       obj       cls     total    labels  img_size\n",
            "     51/99     3.18G   0.02543   0.01689  0.004282    0.0466        52       640: 100% 313/313 [01:14<00:00,  4.21it/s]\n",
            "               Class      Images      Labels           P           R      mAP@.5  mAP@.5:.95: 100% 16/16 [00:03<00:00,  4.02it/s]\n",
            "                 all         499        1680       0.588        0.63       0.598       0.431\n",
            "\n",
            "     Epoch   gpu_mem       box       obj       cls     total    labels  img_size\n",
            "     52/99     3.18G   0.02503   0.01685  0.004175   0.04605        50       640: 100% 313/313 [01:14<00:00,  4.22it/s]\n",
            "               Class      Images      Labels           P           R      mAP@.5  mAP@.5:.95: 100% 16/16 [00:03<00:00,  4.02it/s]\n",
            "                 all         499        1680       0.576       0.699       0.626       0.455\n",
            "\n",
            "     Epoch   gpu_mem       box       obj       cls     total    labels  img_size\n",
            "     53/99     3.18G   0.02508   0.01661  0.003914    0.0456        49       640: 100% 313/313 [01:14<00:00,  4.21it/s]\n",
            "               Class      Images      Labels           P           R      mAP@.5  mAP@.5:.95: 100% 16/16 [00:03<00:00,  4.06it/s]\n",
            "                 all         499        1680       0.545       0.712       0.631       0.459\n",
            "\n",
            "     Epoch   gpu_mem       box       obj       cls     total    labels  img_size\n",
            "     54/99     3.18G   0.02481   0.01663  0.004029   0.04546        35       640: 100% 313/313 [01:14<00:00,  4.20it/s]\n",
            "               Class      Images      Labels           P           R      mAP@.5  mAP@.5:.95: 100% 16/16 [00:03<00:00,  4.06it/s]\n",
            "                 all         499        1680       0.588       0.608       0.612       0.442\n",
            "\n",
            "     Epoch   gpu_mem       box       obj       cls     total    labels  img_size\n",
            "     55/99     3.18G   0.02475   0.01653  0.003829   0.04511        30       640: 100% 313/313 [01:14<00:00,  4.20it/s]\n",
            "               Class      Images      Labels           P           R      mAP@.5  mAP@.5:.95: 100% 16/16 [00:03<00:00,  4.04it/s]\n",
            "                 all         499        1680       0.664       0.521       0.589       0.423\n",
            "\n",
            "     Epoch   gpu_mem       box       obj       cls     total    labels  img_size\n",
            "     56/99     3.18G   0.02464   0.01651   0.00378   0.04494        79       640: 100% 313/313 [01:14<00:00,  4.22it/s]\n",
            "               Class      Images      Labels           P           R      mAP@.5  mAP@.5:.95: 100% 16/16 [00:04<00:00,  3.97it/s]\n",
            "                 all         499        1680       0.633       0.539       0.569       0.408\n",
            "\n",
            "     Epoch   gpu_mem       box       obj       cls     total    labels  img_size\n",
            "     57/99     3.18G   0.02455   0.01646  0.003835   0.04485        63       640: 100% 313/313 [01:14<00:00,  4.21it/s]\n",
            "               Class      Images      Labels           P           R      mAP@.5  mAP@.5:.95: 100% 16/16 [00:03<00:00,  4.02it/s]\n",
            "                 all         499        1680       0.623       0.596       0.614       0.454\n",
            "\n",
            "     Epoch   gpu_mem       box       obj       cls     total    labels  img_size\n",
            "     58/99     3.18G   0.02419   0.01612  0.003819   0.04413        65       640: 100% 313/313 [01:14<00:00,  4.20it/s]\n",
            "               Class      Images      Labels           P           R      mAP@.5  mAP@.5:.95: 100% 16/16 [00:03<00:00,  4.00it/s]\n",
            "                 all         499        1680       0.593       0.562       0.575       0.411\n",
            "\n",
            "     Epoch   gpu_mem       box       obj       cls     total    labels  img_size\n",
            "     59/99     3.18G   0.02432   0.01658   0.00349   0.04438        47       640: 100% 313/313 [01:14<00:00,  4.22it/s]\n",
            "               Class      Images      Labels           P           R      mAP@.5  mAP@.5:.95: 100% 16/16 [00:03<00:00,  4.02it/s]\n",
            "                 all         499        1680       0.608       0.525       0.581       0.421\n",
            "\n",
            "     Epoch   gpu_mem       box       obj       cls     total    labels  img_size\n",
            "     60/99     3.18G   0.02396   0.01606  0.003406   0.04343        53       640: 100% 313/313 [01:14<00:00,  4.22it/s]\n",
            "               Class      Images      Labels           P           R      mAP@.5  mAP@.5:.95: 100% 16/16 [00:04<00:00,  3.98it/s]\n",
            "                 all         499        1680       0.598       0.576       0.609       0.443\n",
            "\n",
            "     Epoch   gpu_mem       box       obj       cls     total    labels  img_size\n",
            "     61/99     3.18G   0.02376   0.01609  0.003374   0.04322        47       640: 100% 313/313 [01:14<00:00,  4.22it/s]\n",
            "               Class      Images      Labels           P           R      mAP@.5  mAP@.5:.95: 100% 16/16 [00:03<00:00,  4.02it/s]\n",
            "                 all         499        1680       0.701       0.524       0.634       0.456\n",
            "\n",
            "     Epoch   gpu_mem       box       obj       cls     total    labels  img_size\n",
            "     62/99     3.18G   0.02347   0.01609  0.003238    0.0428        66       640: 100% 313/313 [01:14<00:00,  4.20it/s]\n",
            "               Class      Images      Labels           P           R      mAP@.5  mAP@.5:.95: 100% 16/16 [00:03<00:00,  4.03it/s]\n",
            "                 all         499        1680       0.568       0.567       0.601       0.435\n",
            "\n",
            "     Epoch   gpu_mem       box       obj       cls     total    labels  img_size\n",
            "     63/99     3.18G   0.02327   0.01582  0.003428   0.04252        76       640: 100% 313/313 [01:14<00:00,  4.19it/s]\n",
            "               Class      Images      Labels           P           R      mAP@.5  mAP@.5:.95: 100% 16/16 [00:03<00:00,  4.06it/s]\n",
            "                 all         499        1680        0.63       0.554       0.607       0.446\n",
            "\n",
            "     Epoch   gpu_mem       box       obj       cls     total    labels  img_size\n",
            "     64/99     3.18G   0.02304   0.01569  0.002982   0.04171        38       640: 100% 313/313 [01:14<00:00,  4.21it/s]\n",
            "               Class      Images      Labels           P           R      mAP@.5  mAP@.5:.95: 100% 16/16 [00:03<00:00,  4.06it/s]\n",
            "                 all         499        1680       0.684       0.485       0.591       0.429\n",
            "\n",
            "     Epoch   gpu_mem       box       obj       cls     total    labels  img_size\n",
            "     65/99     3.18G   0.02286    0.0154  0.003141    0.0414        36       640: 100% 313/313 [01:14<00:00,  4.22it/s]\n",
            "               Class      Images      Labels           P           R      mAP@.5  mAP@.5:.95: 100% 16/16 [00:03<00:00,  4.03it/s]\n",
            "                 all         499        1680       0.643       0.535       0.594       0.431\n",
            "\n",
            "     Epoch   gpu_mem       box       obj       cls     total    labels  img_size\n",
            "     66/99     3.18G   0.02281    0.0154  0.003297    0.0415        51       640: 100% 313/313 [01:14<00:00,  4.21it/s]\n",
            "               Class      Images      Labels           P           R      mAP@.5  mAP@.5:.95: 100% 16/16 [00:03<00:00,  4.03it/s]\n",
            "                 all         499        1680       0.546       0.662       0.617       0.444\n",
            "\n",
            "     Epoch   gpu_mem       box       obj       cls     total    labels  img_size\n",
            "     67/99     3.18G   0.02284   0.01538  0.002998   0.04122        45       640: 100% 313/313 [01:14<00:00,  4.20it/s]\n",
            "               Class      Images      Labels           P           R      mAP@.5  mAP@.5:.95: 100% 16/16 [00:03<00:00,  4.02it/s]\n",
            "                 all         499        1680       0.659       0.511        0.59       0.427\n",
            "\n",
            "     Epoch   gpu_mem       box       obj       cls     total    labels  img_size\n",
            "     68/99     3.18G   0.02229   0.01505  0.002877   0.04021        52       640: 100% 313/313 [01:14<00:00,  4.21it/s]\n",
            "               Class      Images      Labels           P           R      mAP@.5  mAP@.5:.95: 100% 16/16 [00:04<00:00,  3.93it/s]\n",
            "                 all         499        1680       0.646       0.562       0.611       0.441\n",
            "\n",
            "     Epoch   gpu_mem       box       obj       cls     total    labels  img_size\n",
            "     69/99     3.18G   0.02222   0.01512  0.002814   0.04015        71       640: 100% 313/313 [01:14<00:00,  4.23it/s]\n",
            "               Class      Images      Labels           P           R      mAP@.5  mAP@.5:.95: 100% 16/16 [00:03<00:00,  4.01it/s]\n",
            "                 all         499        1680       0.581       0.572       0.608       0.436\n",
            "\n",
            "     Epoch   gpu_mem       box       obj       cls     total    labels  img_size\n",
            "     70/99     3.18G   0.02204   0.01488   0.00281   0.03973        58       640: 100% 313/313 [01:14<00:00,  4.20it/s]\n",
            "               Class      Images      Labels           P           R      mAP@.5  mAP@.5:.95: 100% 16/16 [00:03<00:00,  4.04it/s]\n",
            "                 all         499        1680       0.685       0.509        0.59       0.428\n",
            "\n",
            "     Epoch   gpu_mem       box       obj       cls     total    labels  img_size\n",
            "     71/99     3.18G   0.02174   0.01506  0.002823   0.03962        58       640: 100% 313/313 [01:14<00:00,  4.22it/s]\n",
            "               Class      Images      Labels           P           R      mAP@.5  mAP@.5:.95: 100% 16/16 [00:03<00:00,  4.07it/s]\n",
            "                 all         499        1680       0.642       0.517       0.585       0.425\n",
            "\n",
            "     Epoch   gpu_mem       box       obj       cls     total    labels  img_size\n",
            "     72/99     3.18G   0.02184   0.01496  0.002651   0.03945        54       640: 100% 313/313 [01:14<00:00,  4.19it/s]\n",
            "               Class      Images      Labels           P           R      mAP@.5  mAP@.5:.95: 100% 16/16 [00:03<00:00,  4.05it/s]\n",
            "                 all         499        1680        0.63        0.51       0.566       0.408\n",
            "\n",
            "     Epoch   gpu_mem       box       obj       cls     total    labels  img_size\n",
            "     73/99     3.18G   0.02156   0.01491  0.002838   0.03931        62       640: 100% 313/313 [01:14<00:00,  4.19it/s]\n",
            "               Class      Images      Labels           P           R      mAP@.5  mAP@.5:.95: 100% 16/16 [00:03<00:00,  4.08it/s]\n",
            "                 all         499        1680       0.502        0.65       0.575       0.416\n",
            "\n",
            "     Epoch   gpu_mem       box       obj       cls     total    labels  img_size\n",
            "     74/99     3.18G    0.0214   0.01475  0.002581   0.03873        67       640: 100% 313/313 [01:14<00:00,  4.20it/s]\n",
            "               Class      Images      Labels           P           R      mAP@.5  mAP@.5:.95: 100% 16/16 [00:03<00:00,  4.03it/s]\n",
            "                 all         499        1680       0.568       0.631       0.578       0.422\n",
            "\n",
            "     Epoch   gpu_mem       box       obj       cls     total    labels  img_size\n",
            "     75/99     3.18G   0.02126   0.01476  0.002597   0.03862        34       640: 100% 313/313 [01:14<00:00,  4.19it/s]\n",
            "               Class      Images      Labels           P           R      mAP@.5  mAP@.5:.95: 100% 16/16 [00:03<00:00,  4.00it/s]\n",
            "                 all         499        1680       0.656       0.614       0.617       0.454\n",
            "\n",
            "     Epoch   gpu_mem       box       obj       cls     total    labels  img_size\n",
            "     76/99     3.18G   0.02119   0.01465  0.002829   0.03866        51       640: 100% 313/313 [01:14<00:00,  4.19it/s]\n",
            "               Class      Images      Labels           P           R      mAP@.5  mAP@.5:.95: 100% 16/16 [00:03<00:00,  4.00it/s]\n",
            "                 all         499        1680       0.664       0.598       0.624       0.456\n",
            "\n",
            "     Epoch   gpu_mem       box       obj       cls     total    labels  img_size\n",
            "     77/99     3.18G   0.02092   0.01472  0.002627   0.03827        59       640: 100% 313/313 [01:14<00:00,  4.19it/s]\n",
            "               Class      Images      Labels           P           R      mAP@.5  mAP@.5:.95: 100% 16/16 [00:03<00:00,  4.10it/s]\n",
            "                 all         499        1680       0.628       0.634       0.626        0.46\n",
            "\n",
            "     Epoch   gpu_mem       box       obj       cls     total    labels  img_size\n",
            "     78/99     3.18G    0.0208   0.01417   0.00249   0.03747        72       640: 100% 313/313 [01:14<00:00,  4.20it/s]\n",
            "               Class      Images      Labels           P           R      mAP@.5  mAP@.5:.95: 100% 16/16 [00:03<00:00,  4.03it/s]\n",
            "                 all         499        1680       0.606       0.637       0.616       0.449\n",
            "\n",
            "     Epoch   gpu_mem       box       obj       cls     total    labels  img_size\n",
            "     79/99     3.18G   0.02065   0.01443  0.002489   0.03757        48       640: 100% 313/313 [01:14<00:00,  4.20it/s]\n",
            "               Class      Images      Labels           P           R      mAP@.5  mAP@.5:.95: 100% 16/16 [00:03<00:00,  4.03it/s]\n",
            "                 all         499        1680       0.655       0.606       0.637       0.466\n",
            "\n",
            "     Epoch   gpu_mem       box       obj       cls     total    labels  img_size\n",
            "     80/99     3.18G   0.02038   0.01429  0.002515   0.03719        82       640: 100% 313/313 [01:14<00:00,  4.19it/s]\n",
            "               Class      Images      Labels           P           R      mAP@.5  mAP@.5:.95: 100% 16/16 [00:03<00:00,  4.04it/s]\n",
            "                 all         499        1680       0.655       0.547       0.588       0.431\n",
            "\n",
            "     Epoch   gpu_mem       box       obj       cls     total    labels  img_size\n",
            "     81/99     3.18G   0.02044   0.01427  0.002329   0.03704        55       640: 100% 313/313 [01:14<00:00,  4.19it/s]\n",
            "               Class      Images      Labels           P           R      mAP@.5  mAP@.5:.95: 100% 16/16 [00:04<00:00,  3.98it/s]\n",
            "                 all         499        1680        0.51       0.689       0.598       0.443\n",
            "\n",
            "     Epoch   gpu_mem       box       obj       cls     total    labels  img_size\n",
            "     82/99     3.18G   0.02013   0.01433  0.002404   0.03686        54       640: 100% 313/313 [01:14<00:00,  4.18it/s]\n",
            "               Class      Images      Labels           P           R      mAP@.5  mAP@.5:.95: 100% 16/16 [00:03<00:00,  4.02it/s]\n",
            "                 all         499        1680       0.642       0.605       0.604       0.441\n",
            "\n",
            "     Epoch   gpu_mem       box       obj       cls     total    labels  img_size\n",
            "     83/99     3.18G   0.02011   0.01398  0.002281   0.03637        70       640: 100% 313/313 [01:14<00:00,  4.19it/s]\n",
            "               Class      Images      Labels           P           R      mAP@.5  mAP@.5:.95: 100% 16/16 [00:03<00:00,  4.08it/s]\n",
            "                 all         499        1680       0.606       0.655       0.634       0.463\n",
            "\n",
            "     Epoch   gpu_mem       box       obj       cls     total    labels  img_size\n",
            "     84/99     3.18G   0.02001   0.01393  0.002286   0.03623        44       640: 100% 313/313 [01:14<00:00,  4.19it/s]\n",
            "               Class      Images      Labels           P           R      mAP@.5  mAP@.5:.95: 100% 16/16 [00:03<00:00,  4.07it/s]\n",
            "                 all         499        1680       0.566       0.659       0.608       0.446\n",
            "\n",
            "     Epoch   gpu_mem       box       obj       cls     total    labels  img_size\n",
            "     85/99     3.18G   0.01976   0.01389  0.002206   0.03585        50       640: 100% 313/313 [01:14<00:00,  4.19it/s]\n",
            "               Class      Images      Labels           P           R      mAP@.5  mAP@.5:.95: 100% 16/16 [00:03<00:00,  4.06it/s]\n",
            "                 all         499        1680       0.588        0.65        0.61       0.448\n",
            "\n",
            "     Epoch   gpu_mem       box       obj       cls     total    labels  img_size\n",
            "     86/99     3.18G   0.01964   0.01397  0.002269   0.03589        63       640: 100% 313/313 [01:14<00:00,  4.20it/s]\n",
            "               Class      Images      Labels           P           R      mAP@.5  mAP@.5:.95: 100% 16/16 [00:03<00:00,  4.08it/s]\n",
            "                 all         499        1680       0.616       0.614       0.608       0.448\n",
            "\n",
            "     Epoch   gpu_mem       box       obj       cls     total    labels  img_size\n",
            "     87/99     3.18G   0.01957    0.0139  0.002121   0.03559        57       640: 100% 313/313 [01:14<00:00,  4.19it/s]\n",
            "               Class      Images      Labels           P           R      mAP@.5  mAP@.5:.95: 100% 16/16 [00:03<00:00,  4.09it/s]\n",
            "                 all         499        1680       0.622       0.647       0.628       0.455\n",
            "\n",
            "     Epoch   gpu_mem       box       obj       cls     total    labels  img_size\n",
            "     88/99     3.18G   0.01951   0.01367  0.002125   0.03531        55       640: 100% 313/313 [01:14<00:00,  4.19it/s]\n",
            "               Class      Images      Labels           P           R      mAP@.5  mAP@.5:.95: 100% 16/16 [00:03<00:00,  4.06it/s]\n",
            "                 all         499        1680       0.649       0.603        0.62        0.45\n",
            "\n",
            "     Epoch   gpu_mem       box       obj       cls     total    labels  img_size\n",
            "     89/99     3.18G   0.01938    0.0136   0.00206   0.03505        53       640: 100% 313/313 [01:14<00:00,  4.19it/s]\n",
            "               Class      Images      Labels           P           R      mAP@.5  mAP@.5:.95: 100% 16/16 [00:04<00:00,  3.97it/s]\n",
            "                 all         499        1680       0.635       0.611       0.626        0.45\n",
            "\n",
            "     Epoch   gpu_mem       box       obj       cls     total    labels  img_size\n",
            "     90/99     3.18G   0.01912   0.01389  0.002226   0.03524        72       640: 100% 313/313 [01:14<00:00,  4.19it/s]\n",
            "               Class      Images      Labels           P           R      mAP@.5  mAP@.5:.95: 100% 16/16 [00:03<00:00,  4.04it/s]\n",
            "                 all         499        1680       0.656       0.586       0.617       0.451\n",
            "\n",
            "     Epoch   gpu_mem       box       obj       cls     total    labels  img_size\n",
            "     91/99     3.18G   0.01923   0.01357  0.001994    0.0348        45       640: 100% 313/313 [01:14<00:00,  4.19it/s]\n",
            "               Class      Images      Labels           P           R      mAP@.5  mAP@.5:.95: 100% 16/16 [00:03<00:00,  4.03it/s]\n",
            "                 all         499        1680       0.689       0.596       0.648       0.468\n",
            "\n",
            "     Epoch   gpu_mem       box       obj       cls     total    labels  img_size\n",
            "     92/99     3.18G   0.01899   0.01327  0.002186   0.03444        57       640: 100% 313/313 [01:14<00:00,  4.18it/s]\n",
            "               Class      Images      Labels           P           R      mAP@.5  mAP@.5:.95: 100% 16/16 [00:03<00:00,  4.06it/s]\n",
            "                 all         499        1680       0.676       0.603       0.636       0.467\n",
            "\n",
            "     Epoch   gpu_mem       box       obj       cls     total    labels  img_size\n",
            "     93/99     3.18G   0.01899   0.01352  0.002171   0.03468        64       640: 100% 313/313 [01:14<00:00,  4.18it/s]\n",
            "               Class      Images      Labels           P           R      mAP@.5  mAP@.5:.95: 100% 16/16 [00:03<00:00,  4.05it/s]\n",
            "                 all         499        1680       0.661       0.578       0.616       0.451\n",
            "\n",
            "     Epoch   gpu_mem       box       obj       cls     total    labels  img_size\n",
            "     94/99     3.18G   0.01883   0.01329    0.0021   0.03422        48       640: 100% 313/313 [01:14<00:00,  4.18it/s]\n",
            "               Class      Images      Labels           P           R      mAP@.5  mAP@.5:.95: 100% 16/16 [00:04<00:00,  3.99it/s]\n",
            "                 all         499        1680        0.59       0.683       0.633       0.462\n",
            "\n",
            "     Epoch   gpu_mem       box       obj       cls     total    labels  img_size\n",
            "     95/99     3.18G    0.0188   0.01329  0.002086   0.03418        64       640: 100% 313/313 [01:14<00:00,  4.18it/s]\n",
            "               Class      Images      Labels           P           R      mAP@.5  mAP@.5:.95: 100% 16/16 [00:03<00:00,  4.04it/s]\n",
            "                 all         499        1680       0.581       0.644       0.609       0.445\n",
            "\n",
            "     Epoch   gpu_mem       box       obj       cls     total    labels  img_size\n",
            "     96/99     3.18G   0.01861   0.01304  0.001954   0.03361        84       640: 100% 313/313 [01:14<00:00,  4.18it/s]\n",
            "               Class      Images      Labels           P           R      mAP@.5  mAP@.5:.95: 100% 16/16 [00:03<00:00,  4.04it/s]\n",
            "                 all         499        1680       0.568       0.662       0.618       0.451\n",
            "\n",
            "     Epoch   gpu_mem       box       obj       cls     total    labels  img_size\n",
            "     97/99     3.18G    0.0186   0.01355  0.002022   0.03417        70       640: 100% 313/313 [01:14<00:00,  4.19it/s]\n",
            "               Class      Images      Labels           P           R      mAP@.5  mAP@.5:.95: 100% 16/16 [00:03<00:00,  4.06it/s]\n",
            "                 all         499        1680       0.611       0.628       0.619        0.45\n",
            "\n",
            "     Epoch   gpu_mem       box       obj       cls     total    labels  img_size\n",
            "     98/99     3.18G   0.01861   0.01326  0.002059   0.03393        41       640: 100% 313/313 [01:14<00:00,  4.18it/s]\n",
            "               Class      Images      Labels           P           R      mAP@.5  mAP@.5:.95: 100% 16/16 [00:03<00:00,  4.03it/s]\n",
            "                 all         499        1680       0.574       0.647       0.617       0.451\n",
            "\n",
            "     Epoch   gpu_mem       box       obj       cls     total    labels  img_size\n",
            "     99/99     3.18G   0.01857   0.01308  0.001978   0.03363        43       640: 100% 313/313 [01:14<00:00,  4.19it/s]\n",
            "               Class      Images      Labels           P           R      mAP@.5  mAP@.5:.95: 100% 16/16 [00:06<00:00,  2.66it/s]\n",
            "                 all         499        1680       0.574       0.682       0.632       0.461\n",
            "                auto         499          11       0.666       0.727       0.695       0.478\n",
            "                 bus         499         116       0.817       0.716       0.798       0.647\n",
            "                 car         499         784       0.737       0.944       0.926         0.7\n",
            "                 lcv         499          70       0.278       0.588       0.394       0.327\n",
            "          motorcycle         499         317        0.68       0.799       0.803       0.405\n",
            "           multiaxle         499          78       0.515       0.628       0.615       0.499\n",
            "             tractor         499           4        0.38         0.5       0.274         0.2\n",
            "               truck         499         300       0.517       0.556       0.554       0.429\n",
            "100 epochs completed in 2.185 hours.\n",
            "\n",
            "Optimizer stripped from runs/train/exp3/weights/last.pt, 14.4MB\n"
          ],
          "name": "stdout"
        }
      ]
    },
    {
      "cell_type": "markdown",
      "metadata": {
        "id": "2oQOwsK08tTH"
      },
      "source": [
        "**Step 8: Save the weights**"
      ]
    },
    {
      "cell_type": "code",
      "metadata": {
        "id": "1dYVRIEa6h1N",
        "colab": {
          "base_uri": "https://localhost:8080/"
        },
        "outputId": "f9bd4ae7-7f16-41ff-eb73-1a4efd36a93c"
      },
      "source": [
        "# trained weights are saved by default in our weights folder\n",
        "%ls runs/"
      ],
      "execution_count": null,
      "outputs": [
        {
          "output_type": "stream",
          "text": [
            "\u001b[0m\u001b[01;34mdetect\u001b[0m/\n"
          ],
          "name": "stdout"
        }
      ]
    },
    {
      "cell_type": "code",
      "metadata": {
        "id": "n6PYP10i6iO6"
      },
      "source": [
        "%ls runs/train/exp3/weights"
      ],
      "execution_count": null,
      "outputs": []
    },
    {
      "cell_type": "markdown",
      "metadata": {
        "id": "XBRkybj58Xoh"
      },
      "source": [
        "**Step 9: Test your model**"
      ]
    },
    {
      "cell_type": "code",
      "metadata": {
        "id": "nXkFE_U24WRz",
        "colab": {
          "base_uri": "https://localhost:8080/"
        },
        "outputId": "b3d83ab7-e80a-46a9-c7f3-63a85a5ff75b"
      },
      "source": [
        "# use the best weights!\n",
        "!python detect.py --weights /content/yolov5/data/last1.pt --img 640 --conf 0.5 --source /content/yolov5/data/highway_3422_2020-08-26.jpg"
      ],
      "execution_count": null,
      "outputs": [
        {
          "output_type": "stream",
          "text": [
            "Namespace(agnostic_nms=False, augment=False, classes=None, conf_thres=0.5, device='', exist_ok=False, half=False, hide_conf=False, hide_labels=False, img_size=640, iou_thres=0.45, line_thickness=3, max_det=1000, name='exp', nosave=False, project='runs/detect', save_conf=False, save_crop=False, save_txt=False, source='/content/yolov5/data/highway_3422_2020-08-26.jpg', update=False, view_img=False, weights=['/content/yolov5/data/last1.pt'])\n",
            "YOLOv5 🚀 v5.0-143-g3597d28 torch 1.8.1+cu101 CUDA:0 (Tesla T4, 15109.75MB)\n",
            "\n",
            "Fusing layers... \n",
            "Model Summary: 224 layers, 7072789 parameters, 0 gradients, 16.4 GFLOPs\n",
            "image 1/1 /content/yolov5/data/highway_3422_2020-08-26.jpg: 640x640 4 cars, 2 motorcycles, 1 truck, Done. (0.025s)\n",
            "Results saved to runs/detect/exp2\n",
            "Done. (0.114s)\n"
          ],
          "name": "stdout"
        }
      ]
    },
    {
      "cell_type": "code",
      "metadata": {
        "id": "KmFI6fmV4WT1"
      },
      "source": [
        ""
      ],
      "execution_count": null,
      "outputs": []
    },
    {
      "cell_type": "code",
      "metadata": {
        "id": "6qF0AYF24WWA"
      },
      "source": [
        ""
      ],
      "execution_count": null,
      "outputs": []
    },
    {
      "cell_type": "code",
      "metadata": {
        "id": "8r-CdctB4WZo"
      },
      "source": [
        ""
      ],
      "execution_count": null,
      "outputs": []
    },
    {
      "cell_type": "code",
      "metadata": {
        "id": "FT_Qr78e4Wb6"
      },
      "source": [
        ""
      ],
      "execution_count": null,
      "outputs": []
    }
  ]
}